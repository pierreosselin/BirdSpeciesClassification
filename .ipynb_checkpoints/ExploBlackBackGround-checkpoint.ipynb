{
 "cells": [
  {
   "cell_type": "markdown",
   "metadata": {},
   "source": [
    "## Black Background Adjustment\n",
    "In this notebook, we create a new data set based on the Cropped Data set that produce square images with black background, in order to preserve the Aspect Ratio for the classification task."
   ]
  },
  {
   "cell_type": "code",
   "execution_count": 5,
   "metadata": {},
   "outputs": [],
   "source": [
    "from torchsummary import summary\n",
    "import torch\n",
    "from model import Net\n",
    "from torchvision import datasets, models"
   ]
  },
  {
   "cell_type": "code",
   "execution_count": 6,
   "metadata": {},
   "outputs": [],
   "source": [
    "from PIL import Image\n",
    "\n",
    "def make_square(im, fill_color=(0, 0, 0)):\n",
    "    x, y = im.size\n",
    "    size = max(x, y)\n",
    "    new_im = Image.new('RGB', (size, size), fill_color)\n",
    "    new_im.paste(im, (int((size - x) / 2), int((size - y) / 2)))\n",
    "    return new_im"
   ]
  },
  {
   "cell_type": "code",
   "execution_count": 9,
   "metadata": {},
   "outputs": [],
   "source": [
    "import os\n",
    "# Change path with 'bird_dataset_cropped/val_images', 'bird_dataset_cropped/train_images' and 'bird_dataset_cropped/test_images'\n",
    "path = 'bird_dataset_cropped/val_images'\n",
    "for dossier, sous_dossiers, fichiers in os.walk(path):\n",
    "    if sous_dossiers == []:\n",
    "        for el in fichiers:\n",
    "            path = dossier + '/' + el\n",
    "            im = Image.open(path)\n",
    "            img = make_square(im)\n",
    "            img.save(path, \"JPEG\", quality=80, optimize=True, progressive=True)"
   ]
  },
  {
   "cell_type": "code",
   "execution_count": null,
   "metadata": {},
   "outputs": [],
   "source": []
  }
 ],
 "metadata": {
  "kernelspec": {
   "display_name": "Python 3",
   "language": "python",
   "name": "python3"
  },
  "language_info": {
   "codemirror_mode": {
    "name": "ipython",
    "version": 3
   },
   "file_extension": ".py",
   "mimetype": "text/x-python",
   "name": "python",
   "nbconvert_exporter": "python",
   "pygments_lexer": "ipython3",
   "version": "3.7.4"
  }
 },
 "nbformat": 4,
 "nbformat_minor": 2
}
